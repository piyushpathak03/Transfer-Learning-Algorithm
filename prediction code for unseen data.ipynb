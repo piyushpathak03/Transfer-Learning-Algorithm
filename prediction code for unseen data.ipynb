{
 "cells": [
  {
   "cell_type": "code",
   "execution_count": null,
   "metadata": {},
   "outputs": [],
   "source": [
    "d={}\n",
    "dirr = r'C:\\Users\\piyush.pathak\\Desktop\\ORAL_Clinic\\Multiple disease vs healthy tongue\\datasets\\new_data'\n",
    "os.chdir(dirr)   #change directory\n",
    "all_images = os.listdir()     # import all images from new folder\n",
    "print(all_images)\n",
    "for i in range(len(all_images)):\n",
    "    img=image.load_img(all_images[i],target_size=(224,224))    #load images\n",
    "    x=image.img_to_array(img)                                  # convert images into array\n",
    "\n",
    "    x=x/255                                                 # resize\n",
    "    x=np.expand_dims(x,axis=0)                              # expand dimensions \n",
    "    model.predict(x)\n",
    "    d[all_images[i]]=np.argmax(model.predict(x), axis=1)              #prediction\n",
    "for key,values in d.items():\n",
    "    print(str(key)+\"/\"+str(values))\n",
    "    \n",
    "    "
   ]
  }
 ],
 "metadata": {
  "kernelspec": {
   "display_name": "Python 3",
   "language": "python",
   "name": "python3"
  },
  "language_info": {
   "codemirror_mode": {
    "name": "ipython",
    "version": 3
   },
   "file_extension": ".py",
   "mimetype": "text/x-python",
   "name": "python",
   "nbconvert_exporter": "python",
   "pygments_lexer": "ipython3",
   "version": "3.8.3"
  }
 },
 "nbformat": 4,
 "nbformat_minor": 4
}
