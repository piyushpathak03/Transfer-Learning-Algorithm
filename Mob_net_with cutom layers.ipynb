{
 "cells": [
  {
   "cell_type": "markdown",
   "metadata": {},
   "source": [
    "# Libraries"
   ]
  },
  {
   "cell_type": "code",
   "execution_count": 12,
   "metadata": {},
   "outputs": [],
   "source": [
    "import numpy as np\n",
    "from glob import glob\n",
    "import matplotlib.pyplot as plt\n",
    "import os\n",
    "import tensorflow as tf\n",
    "import keras\n",
    "\n",
    "from keras.layers import Input, Lambda, Dense, Flatten, Conv2D, MaxPooling2D\n",
    "from keras.models import Model\n",
    "from keras.preprocessing import image\n",
    "from keras.preprocessing.image import ImageDataGenerator\n",
    "from keras.models import Sequential\n",
    "from keras.layers import Dropout\n",
    "\n",
    "from keras import backend as K\n",
    "from keras.layers.core import Dense, Activation\n",
    "from keras.optimizers import Adam\n",
    "from keras.metrics import categorical_crossentropy\n",
    "from keras.applications import imagenet_utils\n",
    "from keras.layers import Dense,GlobalAveragePooling2D\n",
    "from keras.applications import MobileNet, MobileNetV2 \n",
    "from keras.applications.mobilenet import preprocess_input\n",
    "from IPython.display import Image"
   ]
  },
  {
   "cell_type": "code",
   "execution_count": null,
   "metadata": {},
   "outputs": [],
   "source": []
  },
  {
   "cell_type": "markdown",
   "metadata": {},
   "source": [
    "# Custom model architecture on Imagenet"
   ]
  },
  {
   "cell_type": "code",
   "execution_count": 13,
   "metadata": {},
   "outputs": [
    {
     "name": "stdout",
     "output_type": "stream",
     "text": [
      "Model: \"sequential_3\"\n",
      "_________________________________________________________________\n",
      "Layer (type)                 Output Shape              Param #   \n",
      "=================================================================\n",
      "mobilenetv2_1.00_224 (Functi (None, 7, 7, 1280)        2257984   \n",
      "_________________________________________________________________\n",
      "conv2d_2 (Conv2D)            (None, 5, 5, 64)          737344    \n",
      "_________________________________________________________________\n",
      "activation_2 (Activation)    (None, 5, 5, 64)          0         \n",
      "_________________________________________________________________\n",
      "max_pooling2d_1 (MaxPooling2 (None, 2, 2, 64)          0         \n",
      "_________________________________________________________________\n",
      "flatten_1 (Flatten)          (None, 256)               0         \n",
      "_________________________________________________________________\n",
      "dense_3 (Dense)              (None, 4096)              1052672   \n",
      "_________________________________________________________________\n",
      "dense_4 (Dense)              (None, 4096)              16781312  \n",
      "_________________________________________________________________\n",
      "dense_5 (Dense)              (None, 2)                 8194      \n",
      "=================================================================\n",
      "Total params: 20,837,506\n",
      "Trainable params: 18,579,522\n",
      "Non-trainable params: 2,257,984\n",
      "_________________________________________________________________\n"
     ]
    }
   ],
   "source": [
    "# re-size all the images to this\n",
    "\n",
    "IMAGE_SIZE = [224, 224]\n",
    "\n",
    "\n",
    "train_path = 'datasets/Train'\n",
    "valid_path = 'datasets/Test'\n",
    "\n",
    "# add preprocessing layer to the front of mob_net\n",
    "\n",
    "MobileNetV2 = MobileNetV2(input_shape=IMAGE_SIZE + [3], weights='imagenet', include_top=False)\n",
    "\n",
    "\n",
    "# don't train existing weights\n",
    "for layer in MobileNetV2.layers:\n",
    "  layer.trainable = False\n",
    "  \n",
    "\n",
    "  \n",
    "  # useful for getting number of classes\n",
    "folders = glob('datasets/Train/*')\n",
    "\n",
    "#adding mobnet with an additional ConvNet and two dense layers\n",
    "model = Sequential()\n",
    "model.add(MobileNetV2)\n",
    "model.add(Conv2D(64, (3, 3)))\n",
    "model.add(Activation('relu'))\n",
    "model.add(MaxPooling2D(pool_size=(2, 2)))\n",
    "model.add(Flatten())\n",
    "model.add(Dense(units=4096,activation=\"relu\"))\n",
    "model.add(Dense(units=4096,activation=\"relu\"))\n",
    "# model,add(Dropout(0.5))\n",
    "model.add(Dropout(0.5))\n",
    "model.add(Dense(units=len(folders), activation=\"sigmoid\"))\n",
    "model.summary()\n",
    "  \n",
    "\n"
   ]
  },
  {
   "cell_type": "code",
   "execution_count": null,
   "metadata": {},
   "outputs": [],
   "source": []
  },
  {
   "cell_type": "markdown",
   "metadata": {},
   "source": [
    "# Training & Visualization"
   ]
  },
  {
   "cell_type": "code",
   "execution_count": 14,
   "metadata": {},
   "outputs": [
    {
     "name": "stdout",
     "output_type": "stream",
     "text": [
      "Found 784 images belonging to 2 classes.\n",
      "Found 23 images belonging to 2 classes.\n",
      "WARNING:tensorflow:From <ipython-input-14-5fae50481471>:32: Model.fit_generator (from tensorflow.python.keras.engine.training) is deprecated and will be removed in a future version.\n",
      "Instructions for updating:\n",
      "Please use Model.fit, which supports generators.\n",
      "Epoch 1/30\n",
      "11/25 [============>.................] - ETA: 13s - loss: 2.3935 - accuracy: 0.6042"
     ]
    },
    {
     "name": "stderr",
     "output_type": "stream",
     "text": [
      "C:\\Users\\piyush.pathak\\Anaconda3\\lib\\site-packages\\PIL\\TiffImagePlugin.py:785: UserWarning: Corrupt EXIF data.  Expecting to read 12 bytes but only got 10. \n",
      "  warnings.warn(str(msg))\n"
     ]
    },
    {
     "name": "stdout",
     "output_type": "stream",
     "text": [
      "25/25 [==============================] - 28s 1s/step - loss: 1.3909 - accuracy: 0.6148 - val_loss: 0.6715 - val_accuracy: 0.6087\n",
      "Epoch 2/30\n",
      "25/25 [==============================] - 26s 1s/step - loss: 0.4899 - accuracy: 0.7653 - val_loss: 0.4221 - val_accuracy: 0.8696\n",
      "Epoch 3/30\n",
      "25/25 [==============================] - 30s 1s/step - loss: 0.3494 - accuracy: 0.8533 - val_loss: 0.5036 - val_accuracy: 0.7391\n",
      "Epoch 4/30\n",
      "25/25 [==============================] - 28s 1s/step - loss: 0.3262 - accuracy: 0.8686 - val_loss: 0.4406 - val_accuracy: 0.8261\n",
      "Epoch 5/30\n",
      "25/25 [==============================] - 28s 1s/step - loss: 0.2781 - accuracy: 0.8865 - val_loss: 0.4742 - val_accuracy: 0.8696\n",
      "Epoch 6/30\n",
      "25/25 [==============================] - 30s 1s/step - loss: 0.2637 - accuracy: 0.8941 - val_loss: 0.6144 - val_accuracy: 0.7391\n",
      "Epoch 7/30\n",
      "25/25 [==============================] - 27s 1s/step - loss: 0.2289 - accuracy: 0.9209 - val_loss: 0.4501 - val_accuracy: 0.8261\n",
      "Epoch 8/30\n",
      "25/25 [==============================] - 37s 1s/step - loss: 0.2023 - accuracy: 0.9260 - val_loss: 0.3909 - val_accuracy: 0.9130\n",
      "Epoch 9/30\n",
      "25/25 [==============================] - 56s 2s/step - loss: 0.2032 - accuracy: 0.9260 - val_loss: 0.4907 - val_accuracy: 0.7826\n",
      "Epoch 10/30\n",
      "25/25 [==============================] - 52s 2s/step - loss: 0.1586 - accuracy: 0.9413 - val_loss: 0.4776 - val_accuracy: 0.8261\n",
      "Epoch 11/30\n",
      "25/25 [==============================] - 57s 2s/step - loss: 0.1320 - accuracy: 0.9528 - val_loss: 0.4637 - val_accuracy: 0.9130\n",
      "Epoch 12/30\n",
      "25/25 [==============================] - 56s 2s/step - loss: 0.1354 - accuracy: 0.9515 - val_loss: 0.4005 - val_accuracy: 0.9130\n",
      "Epoch 13/30\n",
      "25/25 [==============================] - 55s 2s/step - loss: 0.1181 - accuracy: 0.9541 - val_loss: 0.6888 - val_accuracy: 0.7826\n",
      "Epoch 14/30\n",
      "25/25 [==============================] - 58s 2s/step - loss: 0.0796 - accuracy: 0.9783 - val_loss: 0.5172 - val_accuracy: 0.7826\n",
      "Epoch 15/30\n",
      "25/25 [==============================] - 53s 2s/step - loss: 0.0994 - accuracy: 0.9707 - val_loss: 0.6183 - val_accuracy: 0.8261\n",
      "Epoch 16/30\n",
      "25/25 [==============================] - 62s 2s/step - loss: 0.0865 - accuracy: 0.9694 - val_loss: 0.6148 - val_accuracy: 0.8261\n",
      "Epoch 17/30\n",
      "25/25 [==============================] - 67s 3s/step - loss: 0.0956 - accuracy: 0.9707 - val_loss: 0.4037 - val_accuracy: 0.7826\n",
      "Epoch 18/30\n",
      "25/25 [==============================] - 74s 3s/step - loss: 0.0622 - accuracy: 0.9770 - val_loss: 0.6650 - val_accuracy: 0.8261\n",
      "Epoch 19/30\n",
      "25/25 [==============================] - 71s 3s/step - loss: 0.1239 - accuracy: 0.9566 - val_loss: 0.3757 - val_accuracy: 0.9130\n",
      "Epoch 20/30\n",
      "25/25 [==============================] - 71s 3s/step - loss: 0.0945 - accuracy: 0.9681 - val_loss: 0.7435 - val_accuracy: 0.7391\n",
      "Epoch 21/30\n",
      "25/25 [==============================] - 68s 3s/step - loss: 0.0685 - accuracy: 0.9783 - val_loss: 0.4382 - val_accuracy: 0.8696\n",
      "Epoch 22/30\n",
      "25/25 [==============================] - 70s 3s/step - loss: 0.0607 - accuracy: 0.9783 - val_loss: 0.2965 - val_accuracy: 0.9565\n",
      "Epoch 23/30\n",
      "25/25 [==============================] - 70s 3s/step - loss: 0.0322 - accuracy: 0.9885 - val_loss: 0.4192 - val_accuracy: 0.9130\n",
      "Epoch 24/30\n",
      "25/25 [==============================] - 70s 3s/step - loss: 0.0729 - accuracy: 0.9719 - val_loss: 0.4613 - val_accuracy: 0.9130\n",
      "Epoch 25/30\n",
      "25/25 [==============================] - 73s 3s/step - loss: 0.0940 - accuracy: 0.9707 - val_loss: 0.8027 - val_accuracy: 0.8261\n",
      "Epoch 26/30\n",
      "25/25 [==============================] - 68s 3s/step - loss: 0.0708 - accuracy: 0.9732 - val_loss: 0.6365 - val_accuracy: 0.7391\n",
      "Epoch 27/30\n",
      "25/25 [==============================] - 76s 3s/step - loss: 0.0599 - accuracy: 0.9770 - val_loss: 1.1161 - val_accuracy: 0.7826\n",
      "Epoch 28/30\n",
      "25/25 [==============================] - 94s 4s/step - loss: 0.0764 - accuracy: 0.9694 - val_loss: 0.7144 - val_accuracy: 0.8696\n",
      "Epoch 29/30\n",
      "25/25 [==============================] - 103s 4s/step - loss: 0.0474 - accuracy: 0.9834 - val_loss: 1.1220 - val_accuracy: 0.7826\n",
      "Epoch 30/30\n",
      "25/25 [==============================] - 95s 4s/step - loss: 0.1375 - accuracy: 0.9490 - val_loss: 0.6627 - val_accuracy: 0.7391\n"
     ]
    },
    {
     "data": {
      "image/png": "[encoded data removed]",
      "text/plain": [
       "<Figure size 432x288 with 1 Axes>"
      ]
     },
     "metadata": {
      "needs_background": "light"
     },
     "output_type": "display_data"
    },
    {
     "data": {
      "image/png": "[encoded data removed]",
      "text/plain": [
       "<Figure size 432x288 with 1 Axes>"
      ]
     },
     "metadata": {
      "needs_background": "light"
     },
     "output_type": "display_data"
    }
   ],
   "source": [
    "# Decide cost and optimization method \n",
    "model.compile(\n",
    "  loss='binary_crossentropy',\n",
    "  optimizer='adam',\n",
    "  metrics=['accuracy']\n",
    ")\n",
    "\n",
    "\n",
    "# Use  Image Data Generator to import the images from the dataset\n",
    "from tensorflow.keras.preprocessing.image import ImageDataGenerator\n",
    "\n",
    "train_datagen = ImageDataGenerator(rescale = 1./255,\n",
    "                                   shear_range = 0.2,\n",
    "                                   zoom_range = 0.2,\n",
    "                                   horizontal_flip = True)\n",
    "\n",
    "\n",
    "test_datagen = ImageDataGenerator(rescale = 1./255)\n",
    "\n",
    "# Make sure you provide the same target size as initialied for the image size\n",
    "training_set = train_datagen.flow_from_directory('datasets/Train',\n",
    "                                                 target_size = (224, 224),\n",
    "                                                 batch_size = 32,\n",
    "                                                 class_mode = 'categorical')\n",
    "\n",
    "test_set = test_datagen.flow_from_directory('datasets/Test',\n",
    "                                            target_size = (224, 224),\n",
    "                                            batch_size = 4,\n",
    "                                            class_mode = 'categorical')\n",
    "\n",
    "# Run the cell. It will take some time to execute\n",
    "r = model.fit_generator(\n",
    "  training_set,\n",
    "  validation_data=test_set,\n",
    "  epochs=30,\n",
    "  steps_per_epoch=len(training_set),\n",
    "  validation_steps=len(test_set)\n",
    ")\n",
    "\n",
    "plt.plot(r.history['loss'], label='train loss')\n",
    "plt.plot(r.history['val_loss'], label='val loss')\n",
    "plt.legend()\n",
    "plt.show()\n",
    "\n",
    "\n",
    "# plot the accuracy\n",
    "plt.plot(r.history['accuracy'], label='train acc')\n",
    "plt.plot(r.history['val_accuracy'], label='val acc')\n",
    "plt.legend()\n",
    "plt.show()\n"
   ]
  },
  {
   "cell_type": "code",
   "execution_count": null,
   "metadata": {},
   "outputs": [],
   "source": []
  },
  {
   "cell_type": "markdown",
   "metadata": {},
   "source": [
    "# Accuracy testing"
   ]
  },
  {
   "cell_type": "markdown",
   "metadata": {},
   "source": [
    "from sklearn import metrics\n",
    "batch_size = 10\n",
    "target_names = valid_path\n",
    "Y_pred = model.predict_generator(test_set, 49 // batch_size+1)\n",
    "y_pred = np.argmax(Y_pred, axis=1)\n",
    "print('Confusion Matrix')\n",
    "cm = metrics.confusion_matrix(test_set.classes, y_pred)\n",
    "print(cm)\n",
    "print('Classification Report')\n",
    "print(metrics.classification_report(test_set.classes, y_pred))"
   ]
  },
  {
   "cell_type": "code",
   "execution_count": null,
   "metadata": {},
   "outputs": [],
   "source": []
  },
  {
   "cell_type": "markdown",
   "metadata": {},
   "source": [
    "# Model save"
   ]
  },
  {
   "cell_type": "code",
   "execution_count": 15,
   "metadata": {},
   "outputs": [],
   "source": [
    "model.save('model_mobnet_custom_plaque_periodontitis.h5')\n"
   ]
  },
  {
   "cell_type": "code",
   "execution_count": null,
   "metadata": {},
   "outputs": [],
   "source": []
  },
  {
   "cell_type": "markdown",
   "metadata": {},
   "source": [
    "# Model Loading"
   ]
  },
  {
   "cell_type": "code",
   "execution_count": 16,
   "metadata": {},
   "outputs": [
    {
     "data": {
      "text/plain": [
       "<tensorflow.python.keras.engine.sequential.Sequential at 0x233eac32fa0>"
      ]
     },
     "execution_count": 16,
     "metadata": {},
     "output_type": "execute_result"
    }
   ],
   "source": [
    "from tensorflow.keras.models import load_model\n",
    "from tensorflow.keras.preprocessing import image\n",
    "import os\n",
    "\n",
    "model=load_model('model_mobnet_custom_plaque_periodontitis.h5')\n",
    "model"
   ]
  },
  {
   "cell_type": "code",
   "execution_count": 15,
   "metadata": {},
   "outputs": [
    {
     "data": {
      "text/plain": [
       "10000"
      ]
     },
     "execution_count": 15,
     "metadata": {},
     "output_type": "execute_result"
    }
   ],
   "source": [
    "20*500\n"
   ]
  },
  {
   "cell_type": "markdown",
   "metadata": {},
   "source": [
    "# Check classes"
   ]
  },
  {
   "cell_type": "code",
   "execution_count": 17,
   "metadata": {},
   "outputs": [
    {
     "name": "stdout",
     "output_type": "stream",
     "text": [
      "{'Periodontitis': 0, 'Plaque': 1}\n",
      "{'Periodontitis': 0, 'Plaque': 1}\n"
     ]
    }
   ],
   "source": [
    "\n",
    "print(training_set.class_indices)\n",
    "\n",
    "\n",
    "print(test_set.class_indices)"
   ]
  },
  {
   "cell_type": "code",
   "execution_count": null,
   "metadata": {},
   "outputs": [],
   "source": []
  },
  {
   "cell_type": "markdown",
   "metadata": {},
   "source": [
    "# Prediction"
   ]
  },
  {
   "cell_type": "code",
   "execution_count": 18,
   "metadata": {},
   "outputs": [
    {
     "name": "stdout",
     "output_type": "stream",
     "text": [
      "['Periodontitis1.jpg', 'Periodontitis10.jpg', 'Periodontitis2.jpg', 'Periodontitis3.jpg', 'Periodontitis4.jpg', 'periodontitis5.jpg', 'periodontitis6.jpg', 'Periodontitis7.jpg', 'periodontitis8.jpg', 'Periodontitis9.jpg', 'plaque1.jpg', 'plaque10.jpg', 'plaque11.jpg', 'plaque12.png', 'plaque2.jpg', 'plaque3.jpg', 'plaque4.jpg', 'plaque5.jpg', 'plaque6.jpg', 'plaque7.jpg', 'plaque8.jpg', 'plaque9.jpg']\n",
      "------------------------------------------------------------------------------------------\n",
      "Prediction----------#############----------------\n",
      "Periodontitis1.jpg/[0]\n",
      "Periodontitis10.jpg/[0]\n",
      "Periodontitis2.jpg/[1]\n",
      "Periodontitis3.jpg/[0]\n",
      "Periodontitis4.jpg/[1]\n",
      "periodontitis5.jpg/[1]\n",
      "periodontitis6.jpg/[0]\n",
      "Periodontitis7.jpg/[0]\n",
      "periodontitis8.jpg/[0]\n",
      "Periodontitis9.jpg/[0]\n",
      "plaque1.jpg/[0]\n",
      "plaque10.jpg/[0]\n",
      "plaque11.jpg/[0]\n",
      "plaque12.png/[1]\n",
      "plaque2.jpg/[1]\n",
      "plaque3.jpg/[1]\n",
      "plaque4.jpg/[0]\n",
      "plaque5.jpg/[1]\n",
      "plaque6.jpg/[1]\n",
      "plaque7.jpg/[0]\n",
      "plaque8.jpg/[1]\n",
      "plaque9.jpg/[1]\n"
     ]
    }
   ],
   "source": [
    "d={}\n",
    "dirr = r'C:\\Users\\piyush.pathak\\Desktop\\dental_clinic\\plaque_vs_peridontitis\\new_data'\n",
    "os.chdir(dirr)\n",
    "all_images = os.listdir()\n",
    "print(all_images)\n",
    "for i in range(len(all_images)):\n",
    "    img=image.load_img(all_images[i],target_size=(224,224))\n",
    "    x=image.img_to_array(img)\n",
    "\n",
    "    x=x/255\n",
    "    x=np.expand_dims(x,axis=0)\n",
    "    model.predict(x)\n",
    "    d[all_images[i]]=np.argmax(model.predict(x), axis=1)\n",
    "    \n",
    "print('---'*30)\n",
    "print('Prediction----------#############----------------')\n",
    "for key,values in d.items():\n",
    "    print(str(key)+\"/\"+str(values))\n",
    "    \n",
    "    "
   ]
  },
  {
   "cell_type": "code",
   "execution_count": null,
   "metadata": {},
   "outputs": [],
   "source": []
  },
  {
   "cell_type": "code",
   "execution_count": null,
   "metadata": {},
   "outputs": [],
   "source": [
    "## Confusion matrix with mob_net custom\n",
    "\n",
    "                  periodontitis         plaque    \n",
    "periodontitis           7                 3           \n",
    "plaque                  5                 7                   \n",
    "\n",
    "\n",
    "sensivity of periodontitis:- 70%\n",
    "sensivity of plaque:- 58%\n"
   ]
  },
  {
   "cell_type": "code",
   "execution_count": 9,
   "metadata": {},
   "outputs": [
    {
     "data": {
      "text/plain": [
       "0.9090909090909091"
      ]
     },
     "execution_count": 9,
     "metadata": {},
     "output_type": "execute_result"
    }
   ],
   "source": [
    "## Confusion matrix with mob_net\n",
    "\n",
    "                  periodontitis         plaque    \n",
    "periodontitis           4                 6           \n",
    "plaque                  2                 10                   \n",
    "\n",
    "\n",
    "sensivity of periodontitis:- 40%\n",
    "sensivity of plaque:- 83%\n"
   ]
  },
  {
   "cell_type": "code",
   "execution_count": null,
   "metadata": {},
   "outputs": [],
   "source": [
    "## Confusion matrix with mob_net_60epoch\n",
    "\n",
    "                  periodontitis         plaque    \n",
    "periodontitis           3                  7          \n",
    "plaque                  3                 9                  \n",
    "\n",
    "\n",
    "sensivity of periodontitis:- 30%\n",
    "sensivity of plaque:- 75%\n"
   ]
  },
  {
   "cell_type": "code",
   "execution_count": null,
   "metadata": {},
   "outputs": [],
   "source": [
    "## Confusion matrix with xceptionet_net\n",
    "\n",
    "                  periodontitis         plaque    \n",
    "periodontitis           4                 6           \n",
    "plaque                  3                 9                    \n",
    "\n",
    "\n",
    "sensivity of periodontitis:- 40%\n",
    "sensivity of plaque:- 70%\n"
   ]
  },
  {
   "cell_type": "code",
   "execution_count": null,
   "metadata": {},
   "outputs": [],
   "source": []
  }
 ],
 "metadata": {
  "kernelspec": {
   "display_name": "Python 3",
   "language": "python",
   "name": "python3"
  },
  "language_info": {
   "codemirror_mode": {
    "name": "ipython",
    "version": 3
   },
   "file_extension": ".py",
   "mimetype": "text/x-python",
   "name": "python",
   "nbconvert_exporter": "python",
   "pygments_lexer": "ipython3",
   "version": "3.8.3"
  }
 },
 "nbformat": 4,
 "nbformat_minor": 2
}
